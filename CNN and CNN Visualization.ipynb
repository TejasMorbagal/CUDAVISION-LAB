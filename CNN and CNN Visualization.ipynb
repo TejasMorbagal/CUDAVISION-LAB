{
 "cells": [
  {
   "cell_type": "code",
   "execution_count": 0,
   "metadata": {
    "colab": {},
    "colab_type": "code",
    "id": "PkvLxjy_lX5K"
   },
   "outputs": [],
   "source": [
    "import torch\n",
    "import torchvision\n",
    "import torchvision.transforms as transforms\n",
    "import torchvision.datasets as dsets\n",
    "import random as rand\n",
    "import numpy\n",
    "import numpy as np\n",
    "%matplotlib inline\n",
    "import matplotlib.pyplot as plt \n",
    "from torch.autograd import Variable\n",
    "from sklearn.metrics import confusion_matrix"
   ]
  },
  {
   "cell_type": "code",
   "execution_count": 16,
   "metadata": {
    "colab": {
     "base_uri": "https://localhost:8080/",
     "height": 52
    },
    "colab_type": "code",
    "id": "87S8r8a1lX5W",
    "outputId": "5959c84a-ce16-49d8-b4bb-811f82671dbe"
   },
   "outputs": [
    {
     "name": "stdout",
     "output_type": "stream",
     "text": [
      "Files already downloaded and verified\n",
      "Files already downloaded and verified\n"
     ]
    }
   ],
   "source": [
    "transform = transforms.Compose(\n",
    "    [transforms.ToTensor()])\n",
    "\n",
    "trainset = torchvision.datasets.CIFAR10(root='./data', train=True,\n",
    "                                        download=True, transform=transform)\n",
    "\n",
    "\n",
    "testset = torchvision.datasets.CIFAR10(root='./data', train=False,\n",
    "                                       download=True, transform=transform)\n",
    " \n"
   ]
  },
  {
   "cell_type": "code",
   "execution_count": 0,
   "metadata": {
    "colab": {},
    "colab_type": "code",
    "id": "ffeiQ4FTlX5i"
   },
   "outputs": [],
   "source": [
    "'''\n",
    "STEP 2: MAKING DATASET ITERABLE\n",
    "'''\n",
    "\n",
    "batch_size = 100\n",
    "n_iters = 15000\n",
    "num_epochs = n_iters / (len(trainset) / batch_size)\n",
    "num_epochs = int(num_epochs)\n",
    "\n",
    "train_loader = torch.utils.data.DataLoader(dataset=trainset, \n",
    "                                           batch_size=batch_size, \n",
    "                                           shuffle=True)\n",
    "\n",
    "test_loader = torch.utils.data.DataLoader(dataset=testset, \n",
    "                                          batch_size=batch_size, \n",
    "                                          shuffle=False)"
   ]
  },
  {
   "cell_type": "code",
   "execution_count": 34,
   "metadata": {
    "colab": {
     "base_uri": "https://localhost:8080/",
     "height": 34
    },
    "colab_type": "code",
    "id": "tOzhGVaolq9b",
    "outputId": "12965ecb-9c43-4707-c5c0-33ed4bc3fe99"
   },
   "outputs": [
    {
     "data": {
      "text/plain": [
       "30"
      ]
     },
     "execution_count": 34,
     "metadata": {
      "tags": []
     },
     "output_type": "execute_result"
    }
   ],
   "source": [
    "num_epochs"
   ]
  },
  {
   "cell_type": "code",
   "execution_count": 0,
   "metadata": {
    "colab": {},
    "colab_type": "code",
    "id": "R2KDanxslX5r"
   },
   "outputs": [],
   "source": [
    "import torch\n",
    "import torch.nn as nn\n",
    "\n",
    "class CNN(nn.Module):\n",
    "    \"\"\"CNN.\"\"\"\n",
    "    def __init__(self):\n",
    "        super(CNN, self).__init__()\n",
    "\n",
    "        \n",
    "\n",
    "        # Conv Layer block 1\n",
    "        self.conv1 = nn.Conv2d(in_channels=3, out_channels=32, kernel_size=3, padding=1)\n",
    "        self.norm1 = nn.BatchNorm2d(32)\n",
    "        self.relu = nn.ReLU(inplace=True)\n",
    "        self.conv2 = nn.Conv2d(in_channels=32, out_channels=64, kernel_size=3, padding=1)\n",
    "        #nn.ReLU(inplace=True)\n",
    "        self.pool = nn.MaxPool2d(kernel_size=2, stride=2)\n",
    "\n",
    "        # Conv Layer block 2\n",
    "        self.conv3 = nn.Conv2d(in_channels=64, out_channels=128, kernel_size=3, padding=1)\n",
    "        self.norm2 = nn.BatchNorm2d(128)\n",
    "        #nn.ReLU(inplace=True)\n",
    "        self.conv4 = nn.Conv2d(in_channels=128, out_channels=128, kernel_size=3, padding=1)\n",
    "        #nn.ReLU(inplace=True)\n",
    "        #nn.MaxPool2d(kernel_size=2, stride=2)\n",
    "        #nn.Dropout2d(p=0.05)\n",
    "\n",
    "        # Conv Layer block 3\n",
    "        self.conv5 = nn.Conv2d(in_channels=128, out_channels=256, kernel_size=3, padding=1)\n",
    "        self.norm3 =nn.BatchNorm2d(256)\n",
    "        #nn.ReLU(inplace=True)\n",
    "        self.conv6 = nn.Conv2d(in_channels=256, out_channels=256, kernel_size=3, padding=1)\n",
    "        #nn.ReLU(inplace=True)\n",
    "        #nn.MaxPool2d(kernel_size=2, stride=2)\n",
    "        \n",
    "\n",
    "\n",
    "        \n",
    "        self.drop = nn.Dropout(p=0.5)\n",
    "        self.fc1 = nn.Linear(4096, 1024)\n",
    "        #nn.ReLU(inplace=True)\n",
    "        self.fc2 = nn.Linear(1024, 512)\n",
    "        #nn.ReLU(inplace=True)\n",
    "        #nn.Dropout(p=0.5)\n",
    "        self.fc3 = nn.Linear(512, 10)\n",
    "        \n",
    "\n",
    "\n",
    "    def forward(self, x):\n",
    "        \"\"\"Perform forward.\"\"\"\n",
    "        \n",
    "        # conv layer1 \n",
    "        out = self.conv1(x)\n",
    "        out = self.norm1(out)\n",
    "        out = self.relu(out)\n",
    "        out = self.conv2(out)\n",
    "        out = self.relu(out)\n",
    "        out = self.pool(out)\n",
    "\n",
    "        #convolution block2\n",
    "        out = self.conv3(out)\n",
    "        out = self.norm2(out)\n",
    "        out = self.relu(out)\n",
    "        out = self.conv4(out)\n",
    "        out = self.relu(out)\n",
    "        out = self.pool(out)\n",
    "        \n",
    "        #convolution block3\n",
    "        out = self.conv5(out)\n",
    "        out = self.norm3(out)\n",
    "        out = self.relu(out)\n",
    "        out = self.conv6(out)\n",
    "        out = self.relu(out)\n",
    "        out = self.pool(out)\n",
    "\n",
    "        # flatten\n",
    "        out = out.view(out.size(0), -1)\n",
    "        \n",
    "        #Linear Function\n",
    "        out = self.drop(out)\n",
    "        out = self.fc1(out)\n",
    "        out = self.relu(out)\n",
    "        out = self.fc2(out)\n",
    "        out = self.relu(out)\n",
    "        out = self.drop(out)\n",
    "        out = self.fc3(out)\n",
    "        \n",
    "    \n",
    "\n",
    "        return out"
   ]
  },
  {
   "cell_type": "code",
   "execution_count": 0,
   "metadata": {
    "colab": {},
    "colab_type": "code",
    "id": "c6RIBTMcowZ6"
   },
   "outputs": [],
   "source": [
    "model = CNN()\n",
    "'''\n",
    "STEP 4: INSTANTIATE MODEL CLASS\n",
    "'''\n",
    "\n",
    "#######################\n",
    "#  USE GPU FOR MODEL  #\n",
    "#######################\n",
    "\n",
    "if torch.cuda.is_available():\n",
    "    model.cuda()\n",
    "\n",
    "criterion = nn.CrossEntropyLoss()\n",
    "optimizer = torch.optim.Adam(model.parameters(), lr=0.0001)"
   ]
  },
  {
   "cell_type": "code",
   "execution_count": 37,
   "metadata": {
    "colab": {
     "base_uri": "https://localhost:8080/",
     "height": 562
    },
    "colab_type": "code",
    "id": "DqfWEE-Jo8p7",
    "outputId": "1b1ed4ef-5ed2-481f-eb14-72ae4810327c"
   },
   "outputs": [
    {
     "name": "stdout",
     "output_type": "stream",
     "text": [
      "Iteration: 1 | Loss: 1.4609868088960647 \n",
      "Iteration: 2 | Loss: 0.988293151974678 \n",
      "Iteration: 3 | Loss: 0.7905496588945389 \n",
      "Iteration: 4 | Loss: 0.6633407422304154 \n",
      "Iteration: 5 | Loss: 0.5667543399930001 \n",
      "Iteration: 6 | Loss: 0.4919413368701935 \n",
      "Iteration: 7 | Loss: 0.42495089140534403 \n",
      "Iteration: 8 | Loss: 0.3661731256842613 \n",
      "Iteration: 9 | Loss: 0.3137505283951759 \n",
      "Iteration: 10 | Loss: 0.273065834030509 \n",
      "Iteration: 11 | Loss: 0.23411874106526376 \n",
      "Iteration: 12 | Loss: 0.20054009352624416 \n",
      "Iteration: 13 | Loss: 0.17794297055900096 \n",
      "Iteration: 14 | Loss: 0.16084255891293286 \n",
      "Iteration: 15 | Loss: 0.13731075440347196 \n",
      "Iteration: 16 | Loss: 0.12781605553999542 \n",
      "Iteration: 17 | Loss: 0.11196734678000211 \n",
      "Iteration: 18 | Loss: 0.08650543441064656 \n",
      "Iteration: 19 | Loss: 0.07463961458392442 \n",
      "Iteration: 20 | Loss: 0.0671950440686196 \n",
      "Iteration: 21 | Loss: 0.06661647062562406 \n",
      "Iteration: 22 | Loss: 0.06622552843205631 \n",
      "Iteration: 23 | Loss: 0.058581727757118646 \n",
      "Iteration: 24 | Loss: 0.05880536261666566 \n",
      "Iteration: 25 | Loss: 0.05955860868934542 \n",
      "Iteration: 26 | Loss: 0.05290618768706918 \n",
      "Iteration: 27 | Loss: 0.05124657279904932 \n",
      "Iteration: 28 | Loss: 0.049650705613661555 \n",
      "Iteration: 29 | Loss: 0.0493256776612252 \n",
      "Iteration: 30 | Loss: 0.049322208805009725 \n",
      "==> Finished Training ...\n"
     ]
    }
   ],
   "source": [
    "for epoch in range(num_epochs):\n",
    "    loss_values = []\n",
    "    running_loss = 0.0\n",
    "    for i, (images,labels) in enumerate(train_loader):\n",
    "        # get the inputs\n",
    "        #inputs, labels = data\n",
    "\n",
    "        if torch.cuda.is_available():\n",
    "            images = Variable(images.cuda())\n",
    "            labels = Variable(labels.cuda())\n",
    "        else:\n",
    "            images = Variable(images)\n",
    "            labels = Variable(labels)\n",
    "\n",
    "        # wrap them in Variable\n",
    "        #inputs, labels = Variable(inputs), Variable(labels)\n",
    "\n",
    "        # zero the parameter gradients\n",
    "        optimizer.zero_grad()\n",
    "\n",
    "        # forward + backward + optimize\n",
    "        outputs = model(images)\n",
    "        loss = criterion(outputs, labels)\n",
    "        loss.backward()\n",
    "\n",
    "        if epoch > 16:\n",
    "            for group in optimizer.param_groups:\n",
    "                for p in group['params']:\n",
    "                    state = optimizer.state[p]\n",
    "                    if state['step'] >= 1024:\n",
    "                        state['step'] = 1000\n",
    "        optimizer.step()\n",
    "\n",
    "\n",
    "        # print statistics\n",
    "        running_loss += loss.item()\n",
    "\n",
    "    # Normalizing the loss by the total number of train batches\n",
    "    running_loss /= len(train_loader)\n",
    "    loss_values.append(running_loss)\n",
    "    \n",
    "\n",
    "    print(\"Iteration: {0} | Loss: {1} \".format(epoch+1, running_loss))\n",
    "\n",
    "    \n",
    "print('==> Finished Training ...')"
   ]
  },
  {
   "cell_type": "code",
   "execution_count": 38,
   "metadata": {
    "colab": {
     "base_uri": "https://localhost:8080/",
     "height": 34
    },
    "colab_type": "code",
    "id": "qh3ugaWpuFdw",
    "outputId": "72e3cf47-b8d0-4368-870b-9370449de43c"
   },
   "outputs": [
    {
     "name": "stdout",
     "output_type": "stream",
     "text": [
      "Accuracy on total test data: 80%\n"
     ]
    }
   ],
   "source": [
    "correct = 0\n",
    "total = 0\n",
    "# Iterate through test dataset\n",
    "for images, labels in test_loader:\n",
    "    \n",
    "    if torch.cuda.is_available():\n",
    "        images = Variable(images.cuda())\n",
    "    else:\n",
    "        images = Variable(images)\n",
    "                \n",
    "    # Forward pass only to get logits/output\n",
    "    outputs = model(images)\n",
    "                \n",
    "    # Get predictions from the maximum value\n",
    "    _, predicted = torch.max(outputs.data, 1)\n",
    "                \n",
    "    # Total number of labels\n",
    "    total += labels.size(0)\n",
    "                \n",
    "              \n",
    "    # Total correct predictions\n",
    "    if torch.cuda.is_available():\n",
    "        correct += (predicted.cpu() == labels.cpu()).sum()\n",
    "    else:\n",
    "        correct += (predicted == labels).sum()\n",
    "            \n",
    "accuracy = 100 * correct / total\n",
    "print(\"Accuracy on total test data: {}%\".format(accuracy.item()))"
   ]
  },
  {
   "cell_type": "code",
   "execution_count": 58,
   "metadata": {
    "colab": {
     "base_uri": "https://localhost:8080/",
     "height": 284
    },
    "colab_type": "code",
    "id": "Pz7Kyv6fJI__",
    "outputId": "727b2e10-36da-4c78-e8fe-6abdd99196c5"
   },
   "outputs": [
    {
     "data": {
      "text/plain": [
       "<matplotlib.image.AxesImage at 0x7f4aa6961978>"
      ]
     },
     "execution_count": 58,
     "metadata": {
      "tags": []
     },
     "output_type": "execute_result"
    },
    {
     "data": {
      "image/png": "[encoded data removed]",
      "text/plain": [
       "<Figure size 432x288 with 1 Axes>"
      ]
     },
     "metadata": {
      "tags": []
     },
     "output_type": "display_data"
    }
   ],
   "source": [
    "import matplotlib.pyplot as plt\n",
    "\n",
    "# Plot some images\n",
    "idx = torch.randint(0, outputs.size(0), ())\n",
    "img = images[idx,0]\n",
    "\n",
    "image = img.cpu()\n",
    "plt.imshow(image.detach().numpy())"
   ]
  },
  {
   "cell_type": "code",
   "execution_count": 59,
   "metadata": {
    "colab": {
     "base_uri": "https://localhost:8080/",
     "height": 34
    },
    "colab_type": "code",
    "id": "7GOn8lZyOhYQ",
    "outputId": "a0c84c85-393a-4fff-ea0e-9d7341af70d0"
   },
   "outputs": [
    {
     "data": {
      "text/plain": [
       "tensor(42)"
      ]
     },
     "execution_count": 59,
     "metadata": {
      "tags": []
     },
     "output_type": "execute_result"
    }
   ],
   "source": [
    "idx"
   ]
  },
  {
   "cell_type": "code",
   "execution_count": 60,
   "metadata": {
    "colab": {
     "base_uri": "https://localhost:8080/",
     "height": 34
    },
    "colab_type": "code",
    "id": "_upd2XRGMSMV",
    "outputId": "d6026523-f17c-43e1-fb4f-40a27905254f"
   },
   "outputs": [
    {
     "data": {
      "text/plain": [
       "torch.Size([32, 32])"
      ]
     },
     "execution_count": 60,
     "metadata": {
      "tags": []
     },
     "output_type": "execute_result"
    }
   ],
   "source": [
    "image.size()"
   ]
  },
  {
   "cell_type": "code",
   "execution_count": 0,
   "metadata": {
    "colab": {},
    "colab_type": "code",
    "id": "bLX6Yjkz_y2t"
   },
   "outputs": [],
   "source": [
    "# Visualize feature maps\n",
    "activation = {}\n",
    "def get_activation(name):\n",
    "    def hook(model, input, output):\n",
    "        activation[name] = output.detach()\n",
    "    return hook\n",
    "\n"
   ]
  },
  {
   "cell_type": "code",
   "execution_count": 62,
   "metadata": {
    "colab": {
     "base_uri": "https://localhost:8080/",
     "height": 34
    },
    "colab_type": "code",
    "id": "7KOUPjMRhhup",
    "outputId": "f41c3fc6-4bf1-4dc6-8628-a0929282492c"
   },
   "outputs": [
    {
     "data": {
      "text/plain": [
       "<torch.utils.hooks.RemovableHandle at 0x7f4aa690fa20>"
      ]
     },
     "execution_count": 62,
     "metadata": {
      "tags": []
     },
     "output_type": "execute_result"
    }
   ],
   "source": [
    "model.conv1.register_forward_hook(get_activation('conv1'))\n"
   ]
  },
  {
   "cell_type": "code",
   "execution_count": 63,
   "metadata": {
    "colab": {
     "base_uri": "https://localhost:8080/",
     "height": 312
    },
    "colab_type": "code",
    "id": "4i4bBf71B7E9",
    "outputId": "783c9dd5-4f3c-48db-f2d9-1db1b4150873"
   },
   "outputs": [
    {
     "data": {
      "text/plain": [
       "Text(0.5, 0.98, 'Conv1 Feature Maps')"
      ]
     },
     "execution_count": 63,
     "metadata": {
      "tags": []
     },
     "output_type": "execute_result"
    },
    {
     "data": {
      "image/png": "[encoded data removed]",
      "text/plain": [
       "<Figure size 432x288 with 2 Axes>"
      ]
     },
     "metadata": {
      "tags": []
     },
     "output_type": "display_data"
    }
   ],
   "source": [
    "model = CNN()\n",
    "#model.CNN[0].register_forward_hook(get_activation('conv1'))\n",
    "model.conv1.register_forward_hook(get_activation('conv1'))\n",
    "x = torch.randn(1, 3, 32, 32)\n",
    "output = model(x)\n",
    "#print(output.shape)\n",
    "\n",
    "\n",
    "act = activation['conv1'].squeeze()\n",
    "num_plot = 2\n",
    "fig, axarr = plt.subplots(min(act.size(0), num_plot))\n",
    "for idx in range(min(act.size(0), num_plot)):\n",
    "    axarr[idx].imshow(act[idx])\n",
    "fig.suptitle('Conv1 Feature Maps', fontsize=16)    "
   ]
  },
  {
   "cell_type": "code",
   "execution_count": 64,
   "metadata": {
    "colab": {
     "base_uri": "https://localhost:8080/",
     "height": 34
    },
    "colab_type": "code",
    "id": "zR9iJlJj7qkN",
    "outputId": "60cadb59-326a-4f4f-bfd0-b238e0c3a0b9"
   },
   "outputs": [
    {
     "data": {
      "text/plain": [
       "torch.Size([32, 32, 32])"
      ]
     },
     "execution_count": 64,
     "metadata": {
      "tags": []
     },
     "output_type": "execute_result"
    }
   ],
   "source": [
    "act.size()"
   ]
  },
  {
   "cell_type": "code",
   "execution_count": 0,
   "metadata": {
    "colab": {},
    "colab_type": "code",
    "id": "x5I--kGXFDtx"
   },
   "outputs": [],
   "source": [
    "model.conv3.register_forward_hook(get_activation('conv3'))\n",
    "x = torch.randn(1, 3, 32, 32)\n",
    "#img = img.reshape(1,1,32,32)\n",
    "output = model(x)\n",
    "#print(output.shape)\n",
    "\n",
    "\n"
   ]
  },
  {
   "cell_type": "code",
   "execution_count": 66,
   "metadata": {
    "colab": {
     "base_uri": "https://localhost:8080/",
     "height": 312
    },
    "colab_type": "code",
    "id": "tG7UrMbDF4RX",
    "outputId": "58e861da-2550-4d37-bc46-8f118a612928"
   },
   "outputs": [
    {
     "data": {
      "text/plain": [
       "Text(0.5, 0.98, 'Conv3 Feature Maps')"
      ]
     },
     "execution_count": 66,
     "metadata": {
      "tags": []
     },
     "output_type": "execute_result"
    },
    {
     "data": {
      "image/png": "[encoded data removed]",
      "text/plain": [
       "<Figure size 432x288 with 2 Axes>"
      ]
     },
     "metadata": {
      "tags": []
     },
     "output_type": "display_data"
    }
   ],
   "source": [
    "act1 = activation['conv3'].squeeze()\n",
    "num_plot = 2\n",
    "fig, axarr = plt.subplots(min(act1.size(0), num_plot))\n",
    "for idx in range(min(act.size(0), num_plot)):\n",
    "    axarr[idx].imshow(act1[idx])\n",
    "fig.suptitle('Conv3 Feature Maps', fontsize=16)    "
   ]
  },
  {
   "cell_type": "code",
   "execution_count": 0,
   "metadata": {
    "colab": {},
    "colab_type": "code",
    "id": "t7lLrx91qBwn"
   },
   "outputs": [],
   "source": [
    "model.conv4.register_forward_hook(get_activation('conv4'))\n",
    "x = torch.randn(1, 3, 32, 32)\n",
    "#img = img.reshape(1,1,32,32)\n",
    "output = model(x)\n",
    "#print(output.shape)"
   ]
  },
  {
   "cell_type": "code",
   "execution_count": 70,
   "metadata": {
    "colab": {
     "base_uri": "https://localhost:8080/",
     "height": 312
    },
    "colab_type": "code",
    "id": "qAPlCupRpm_N",
    "outputId": "6f9f8cb3-0ead-4d5d-9f27-7461741d87a6"
   },
   "outputs": [
    {
     "data": {
      "text/plain": [
       "Text(0.5, 0.98, 'Conv4 Feature Maps')"
      ]
     },
     "execution_count": 70,
     "metadata": {
      "tags": []
     },
     "output_type": "execute_result"
    },
    {
     "data": {
      "image/png": "[encoded data removed]",
      "text/plain": [
       "<Figure size 432x288 with 2 Axes>"
      ]
     },
     "metadata": {
      "tags": []
     },
     "output_type": "display_data"
    }
   ],
   "source": [
    "act2 = activation['conv4'].squeeze()\n",
    "num_plot = 2\n",
    "fig, axarr = plt.subplots(min(act1.size(0), num_plot))\n",
    "for idx in range(min(act.size(0), num_plot)):\n",
    "    axarr[idx].imshow(act1[idx])\n",
    "fig.suptitle('Conv4 Feature Maps', fontsize=16)    "
   ]
  },
  {
   "cell_type": "code",
   "execution_count": 0,
   "metadata": {
    "colab": {},
    "colab_type": "code",
    "id": "JPTQuHMaAHiC"
   },
   "outputs": [],
   "source": [
    "from torchvision import utils\n",
    "import matplotlib.pyplot as plt\n",
    "import numpy as np\n",
    "\n",
    "def vistensor(tensor, ch=0, nrow=20, padding=1): \n",
    "    \n",
    "    n,c,w,h = tensor.shape\n",
    "    if c != 3:\n",
    "      tensor = tensor.view(n*c,-1,w,h )\n",
    "      tensor = tensor[:,ch,:,:].unsqueeze(dim=1)\n",
    "        \n",
    "    rows = np.min((tensor.shape[0]//nrow + 1, 64 ) )    \n",
    "    grid = utils.make_grid(tensor, nrow=nrow, normalize=True, padding=padding)\n",
    "    plt.figure(figsize=(nrow,rows) )\n",
    "    plt.imshow(grid.cpu().numpy().transpose((1, 2, 0)))\n",
    "\n",
    "\n",
    "\n",
    "def plot_img(tensor, num_cols=10):\n",
    "\tnum_kernels = tensor.shape[0]\n",
    "\tnum_rows = 1+ num_kernels // num_cols\n",
    "\tfig = plt.figure(figsize=(num_cols,num_rows))\n",
    "\tfor i in range(num_kernels):\n",
    "\t\tax1 = fig.add_subplot(num_rows,num_cols,i+1)\n",
    "\t\tax1.imshow(tensor[i], cmap='gray')\n",
    "\t\tax1.axis('off')\n",
    "\t\tax1.set_xticklabels([])\n",
    "\t\tax1.set_yticklabels([])\n",
    "\n",
    "\tplt.subplots_adjust(wspace=0.1, hspace=0.1)\n",
    "\treturn plt"
   ]
  },
  {
   "cell_type": "code",
   "execution_count": 32,
   "metadata": {
    "colab": {
     "base_uri": "https://localhost:8080/",
     "height": 600
    },
    "colab_type": "code",
    "id": "TvbPUqdNBgWN",
    "outputId": "38d74b9c-27e6-4182-b7b3-68fda6431664"
   },
   "outputs": [
    {
     "name": "stdout",
     "output_type": "stream",
     "text": [
      "first Kernel\n",
      "torch.Size([32, 3, 3, 3])\n"
     ]
    },
    {
     "data": {
      "image/png": "[encoded data removed]",
      "text/plain": [
       "<Figure size 1440x144 with 1 Axes>"
      ]
     },
     "metadata": {
      "tags": []
     },
     "output_type": "display_data"
    },
    {
     "name": "stdout",
     "output_type": "stream",
     "text": [
      "Second Kernel\n",
      "torch.Size([64, 32, 3, 3])\n"
     ]
    },
    {
     "data": {
      "image/png": "[encoded data removed]",
      "text/plain": [
       "<Figure size 1440x144 with 1 Axes>"
      ]
     },
     "metadata": {
      "tags": []
     },
     "output_type": "display_data"
    },
    {
     "name": "stdout",
     "output_type": "stream",
     "text": [
      "Third Kernel\n",
      "torch.Size([128, 64, 3, 3])\n"
     ]
    },
    {
     "data": {
      "image/png": "[encoded data removed]",
      "text/plain": [
       "<Figure size 1440x288 with 1 Axes>"
      ]
     },
     "metadata": {
      "tags": []
     },
     "output_type": "display_data"
    }
   ],
   "source": [
    "# Visualize Kernels\n",
    "\n",
    "optim = 'adam'\n",
    "lr = 0.0001\n",
    "drop_p = 0.5\n",
    "filters = model.modules()\n",
    "model_layers = [i for i in model.children()]\n",
    "first_layer = model_layers[0]\n",
    "second_layer = model_layers[3]\n",
    "third_layer = model_layers[5]\n",
    "\n",
    "first_kernels = first_layer.weight.data.clone()\n",
    "print(\"first Kernel\")\n",
    "print(first_kernels.shape)\n",
    "vistensor(first_kernels)\n",
    "plt.axis('off')\n",
    "plt.ioff()\n",
    "plt.show()\n",
    "\n",
    "\n",
    "second_kernels = second_layer.weight.data.clone()\n",
    "print(\"Second Kernel\")\n",
    "print(second_kernels.shape)\n",
    "vistensor(second_kernels[0, ...].reshape(1,32,3,3))\n",
    "plt.axis('off')\n",
    "plt.ioff()\n",
    "plt.show()\n",
    "\n",
    "third_kernels = third_layer.weight.data.clone()\n",
    "print(\"Third Kernel\")\n",
    "print(third_kernels.shape)\n",
    "vistensor(third_kernels[0, ...].reshape(1,64,3,3))\n",
    "plt.axis('off')\n",
    "plt.ioff()\n",
    "plt.show()\n",
    "\n"
   ]
  },
  {
   "cell_type": "code",
   "execution_count": 0,
   "metadata": {
    "colab": {
     "base_uri": "https://localhost:8080/",
     "height": 34
    },
    "colab_type": "code",
    "id": "b5s7GB9HH7xz",
    "outputId": "f2211d60-35be-477c-f648-0483d3e99168"
   },
   "outputs": [
    {
     "data": {
      "text/plain": [
       "Conv2d(64, 128, kernel_size=(3, 3), stride=(1, 1), padding=(1, 1))"
      ]
     },
     "execution_count": 46,
     "metadata": {
      "tags": []
     },
     "output_type": "execute_result"
    }
   ],
   "source": [
    "model_layers[5]"
   ]
  },
  {
   "cell_type": "markdown",
   "metadata": {
    "colab_type": "text",
    "id": "G7vjQ1rSXiZ6"
   },
   "source": [
    "Q)Which one is working better in CIFAR-10, MaxPooling or AvgPooling?\n",
    "\n",
    "Average Pooling works better."
   ]
  },
  {
   "cell_type": "markdown",
   "metadata": {
    "colab_type": "text",
    "id": "BOclnpmtXbel"
   },
   "source": [
    "Q) Write the relation between ConvLayer and FC:\n",
    "\n",
    "\n",
    "The only difference between FC and CONV layers is that the neurons in the CONV layer are connected only to a local region in the input, and that many of the neurons in a CONV volume share parameters. However, the neurons in both layers still compute dot products, so their functional form is identical."
   ]
  }
 ],
 "metadata": {
  "accelerator": "GPU",
  "colab": {
   "collapsed_sections": [],
   "name": "CUDA_ASS4.ipynb",
   "provenance": []
  },
  "kernelspec": {
   "display_name": "Python 3",
   "language": "python",
   "name": "python3"
  },
  "language_info": {
   "codemirror_mode": {
    "name": "ipython",
    "version": 3
   },
   "file_extension": ".py",
   "mimetype": "text/x-python",
   "name": "python",
   "nbconvert_exporter": "python",
   "pygments_lexer": "ipython3",
   "version": "3.7.4"
  }
 },
 "nbformat": 4,
 "nbformat_minor": 1
}
