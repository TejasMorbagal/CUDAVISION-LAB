{
 "cells": [
  {
   "cell_type": "code",
   "execution_count": null,
   "metadata": {},
   "outputs": [],
   "source": [
    "Team:\n",
    "Tejas Morbagal Harish\n",
    "Saba Khan"
   ]
  },
  {
   "cell_type": "code",
   "execution_count": 0,
   "metadata": {
    "colab": {},
    "colab_type": "code",
    "id": "Hmity0MqsVsu"
   },
   "outputs": [],
   "source": [
    "import torch\n",
    "import torchvision\n",
    "import torchvision.transforms as transforms\n",
    "import torchvision.datasets as dsets\n",
    "import random as rand\n",
    "import numpy\n",
    "import numpy as np\n",
    "%matplotlib inline\n",
    "import matplotlib.pyplot as plt \n",
    "from torch.autograd import Variable\n",
    "from sklearn.metrics import confusion_matrix"
   ]
  },
  {
   "cell_type": "code",
   "execution_count": 0,
   "metadata": {
    "colab": {},
    "colab_type": "code",
    "id": "l52F4Uaksbgb"
   },
   "outputs": [],
   "source": [
    "transform = transforms.Compose(\n",
    "    [transforms.ToTensor(),\n",
    "     transforms.Normalize((0.5, 0.5, 0.5), (0.5, 0.5, 0.5))])\n"
   ]
  },
  {
   "cell_type": "code",
   "execution_count": 3,
   "metadata": {
    "colab": {
     "base_uri": "https://localhost:8080/",
     "height": 84
    },
    "colab_type": "code",
    "id": "N0cu3E1ZHdIr",
    "outputId": "2935f1ae-6aa6-4278-d748-81894ae41851"
   },
   "outputs": [
    {
     "name": "stderr",
     "output_type": "stream",
     "text": [
      "\r",
      "0it [00:00, ?it/s]"
     ]
    },
    {
     "name": "stdout",
     "output_type": "stream",
     "text": [
      "Downloading https://www.cs.toronto.edu/~kriz/cifar-10-python.tar.gz to ./data/cifar-10-python.tar.gz\n"
     ]
    },
    {
     "name": "stderr",
     "output_type": "stream",
     "text": [
      "170500096it [00:04, 39947296.67it/s]                               \n"
     ]
    },
    {
     "name": "stdout",
     "output_type": "stream",
     "text": [
      "Extracting ./data/cifar-10-python.tar.gz to ./data\n",
      "Files already downloaded and verified\n"
     ]
    }
   ],
   "source": [
    "trainset = torchvision.datasets.CIFAR10(root='./data', train=True,\n",
    "                                        download=True, transform=transform)\n",
    "trainloader = torch.utils.data.DataLoader(trainset,\n",
    "                                          shuffle=True, num_workers=2)\n",
    "\n",
    "testset = torchvision.datasets.CIFAR10(root='./data', train=False,\n",
    "                                       download=True, transform=transform)\n",
    "testloader = torch.utils.data.DataLoader(testset,\n",
    "                                         shuffle=False, num_workers=2)"
   ]
  },
  {
   "cell_type": "code",
   "execution_count": 0,
   "metadata": {
    "colab": {},
    "colab_type": "code",
    "id": "bHd4Q3dLtheS"
   },
   "outputs": [],
   "source": [
    "CLASSES = ('plane', 'car', 'bird', 'cat', 'deer', 'dog', 'frog', 'horse', 'ship', 'truck')"
   ]
  },
  {
   "cell_type": "code",
   "execution_count": 0,
   "metadata": {
    "colab": {},
    "colab_type": "code",
    "id": "UbczOfnfwIsI"
   },
   "outputs": [],
   "source": [
    "'''\n",
    "STEP 2: MAKING DATASET ITERABLE\n",
    "'''\n",
    " \n",
    "batch_size = 100\n",
    "n_iters = 20000\n",
    "num_epochs = n_iters / (len(trainset) / batch_size)\n",
    "num_epochs = int(num_epochs)\n",
    " \n",
    "train_loader = torch.utils.data.DataLoader(dataset=trainset, \n",
    "                                           batch_size=batch_size, \n",
    "                                           shuffle=True)\n",
    " \n",
    "test_loader = torch.utils.data.DataLoader(dataset=testset, \n",
    "                                          batch_size=batch_size, \n",
    "                                          shuffle=False)\n",
    " "
   ]
  },
  {
   "cell_type": "code",
   "execution_count": 0,
   "metadata": {
    "colab": {},
    "colab_type": "code",
    "id": "5IXjFI00wWWn"
   },
   "outputs": [],
   "source": [
    "import torch.nn as nn\n",
    "\n",
    "'''\n",
    "STEP 3: CREATE MODEL CLASS\n",
    "'''\n",
    "class LogisticRegressionModel(nn.Module):\n",
    "    def __init__(self, input_dim, hidden_dim, output_dim):\n",
    "        super(LogisticRegressionModel, self).__init__()\n",
    "        # Linear function 1: 784 --> 100\n",
    "        self.fc1 = nn.Linear(input_dim, hidden_dim) \n",
    "        # Non-linearity 1\n",
    "        self.relu = nn.ReLU()\n",
    "        # Output layer\n",
    "        self.fc2 = nn.Linear(hidden_dim, 10)\n",
    "      \n",
    "    \n",
    "    def forward(self, x):\n",
    "        # Linear function 1\n",
    "        out = self.fc1(x)\n",
    "        # Non-linearity 1\n",
    "        out = self.relu(out)\n",
    "        # Final result from output layer \n",
    "        out = self.fc2(out)\n",
    "        return out\n",
    " "
   ]
  },
  {
   "cell_type": "code",
   "execution_count": 0,
   "metadata": {
    "colab": {},
    "colab_type": "code",
    "id": "SSs-JVyewn3q"
   },
   "outputs": [],
   "source": [
    "'''\n",
    "STEP 4: INSTANTIATE MODEL CLASS\n",
    "'''\n",
    "input_dim = 32*32*3\n",
    "hidden_dim = 1500\n",
    "output_dim = 10\n",
    " \n",
    "model = LogisticRegressionModel(input_dim,hidden_dim, output_dim)"
   ]
  },
  {
   "cell_type": "code",
   "execution_count": 8,
   "metadata": {
    "colab": {
     "base_uri": "https://localhost:8080/",
     "height": 34
    },
    "colab_type": "code",
    "id": "aUNfGLRsxf3X",
    "outputId": "135e7a29-c704-49ab-8ebb-f03e401cbf18"
   },
   "outputs": [
    {
     "name": "stdout",
     "output_type": "stream",
     "text": [
      "cuda\n"
     ]
    }
   ],
   "source": [
    "if torch.cuda.is_available():\n",
    "    avDev = torch.device(\"cuda\")\n",
    "else:\n",
    "    avDev = torch.device(\"cpu\")\n",
    "\n",
    "print(avDev)"
   ]
  },
  {
   "cell_type": "code",
   "execution_count": 0,
   "metadata": {
    "colab": {},
    "colab_type": "code",
    "id": "P32Rir2-xGD2"
   },
   "outputs": [],
   "source": [
    "#  USE GPU FOR MODEL  #\n",
    "#######################\n",
    " \n",
    "model.to(avDev)\n",
    " \n",
    "'''\n",
    "STEP 5: INSTANTIATE LOSS CLASS\n",
    "'''\n",
    "criterion = nn.CrossEntropyLoss().to(avDev)\n",
    "\n",
    " \n",
    "'''\n",
    "STEP 6: INSTANTIATE OPTIMIZER CLASS\n",
    "'''\n",
    "learning_rate = 0.1\n",
    " \n",
    "optimizer = torch.optim.SGD(model.parameters(), lr=learning_rate)\n"
   ]
  },
  {
   "cell_type": "code",
   "execution_count": 10,
   "metadata": {
    "colab": {
     "base_uri": "https://localhost:8080/",
     "height": 34
    },
    "colab_type": "code",
    "id": "MdVCQQMkj_qt",
    "outputId": "b0370e85-cbca-406b-c0fc-da407986003a"
   },
   "outputs": [
    {
     "data": {
      "text/plain": [
       "40"
      ]
     },
     "execution_count": 10,
     "metadata": {
      "tags": []
     },
     "output_type": "execute_result"
    }
   ],
   "source": [
    "num_epochs"
   ]
  },
  {
   "cell_type": "code",
   "execution_count": 11,
   "metadata": {
    "colab": {
     "base_uri": "https://localhost:8080/",
     "height": 954
    },
    "colab_type": "code",
    "id": "y6sJB_mlREb-",
    "outputId": "8a01d6a9-715d-4a38-8d30-5dec351015e1"
   },
   "outputs": [
    {
     "name": "stdout",
     "output_type": "stream",
     "text": [
      "Epoch: 1  Loss: 1.6551757020950317\n",
      "Epoch: 2  Loss: 1.443579820871353\n",
      "Epoch: 3  Loss: 1.3440661718845368\n",
      "Epoch: 4  Loss: 1.2748922204971314\n",
      "Epoch: 5  Loss: 1.207192219376564\n",
      "Epoch: 6  Loss: 1.1545100953578948\n",
      "Epoch: 7  Loss: 1.1040457644462585\n",
      "Epoch: 8  Loss: 1.054586448073387\n",
      "Epoch: 9  Loss: 1.0053653477430344\n",
      "Epoch: 10  Loss: 0.9703201674222947\n",
      "Epoch: 11  Loss: 0.92210613322258\n",
      "Epoch: 12  Loss: 0.8856478037834168\n",
      "Epoch: 13  Loss: 0.8483276413679123\n",
      "Epoch: 14  Loss: 0.8128540782332421\n",
      "Epoch: 15  Loss: 0.7649186872839928\n",
      "Epoch: 16  Loss: 0.7512387313246727\n",
      "Epoch: 17  Loss: 0.6930660780668259\n",
      "Epoch: 18  Loss: 0.675840265750885\n",
      "Epoch: 19  Loss: 0.6377140455245972\n",
      "Epoch: 20  Loss: 0.61055330234766\n",
      "Epoch: 21  Loss: 0.5909820711612701\n",
      "Epoch: 22  Loss: 0.5485757195353508\n",
      "Epoch: 23  Loss: 0.5046373028755188\n",
      "Epoch: 24  Loss: 0.5232479022741318\n",
      "Epoch: 25  Loss: 0.4769185253083706\n",
      "Epoch: 26  Loss: 0.4553188540041447\n",
      "Epoch: 27  Loss: 0.4612427116930485\n",
      "Epoch: 28  Loss: 0.3825755678117275\n",
      "Epoch: 29  Loss: 0.39136627185344697\n",
      "Epoch: 30  Loss: 0.38965976470708846\n",
      "Epoch: 31  Loss: 0.3230575022548437\n",
      "Epoch: 32  Loss: 0.3174183786213398\n",
      "Epoch: 33  Loss: 0.2456982302516699\n",
      "Epoch: 34  Loss: 0.28208223551511763\n",
      "Epoch: 35  Loss: 0.2817158913612366\n",
      "Epoch: 36  Loss: 0.28437027660012243\n",
      "Epoch: 37  Loss: 0.2779482735916972\n",
      "Epoch: 38  Loss: 0.1850249023064971\n",
      "Epoch: 39  Loss: 0.24586943638324738\n",
      "Epoch: 40  Loss: 0.1534220241010189\n",
      "training ended\n"
     ]
    },
    {
     "data": {
      "image/png": "[encoded data removed]",
      "text/plain": [
       "<Figure size 432x288 with 1 Axes>"
      ]
     },
     "metadata": {
      "tags": []
     },
     "output_type": "display_data"
    }
   ],
   "source": [
    "# Training the model on trainset\n",
    "\n",
    "iter = 0\n",
    "pred_test_results = []\n",
    "labels_test_results = []\n",
    "loss_values = []\n",
    "num_updates = 0\n",
    "#correct = 0.0\n",
    "for epoch in range(num_epochs):\n",
    "    running_loss = 0.0\n",
    "    batch_loss = 0\n",
    "    for i, (images, labels) in enumerate(train_loader):\n",
    "        \n",
    "      \n",
    "        images = Variable(images.view(-1, 32*32*3)).to(avDev)\n",
    "        labels = Variable(labels).to(avDev)\n",
    "        \n",
    "        # Clear gradients w.r.t. parameters\n",
    "        optimizer.zero_grad()\n",
    "        \n",
    "        # Forward pass to get output/logits\n",
    "        outputs = model(images)\n",
    "        \n",
    "        # Calculate Loss: softmax --> cross entropy loss\n",
    "        loss = criterion(outputs, labels)\n",
    "        \n",
    "        # Getting gradients w.r.t. parameters\n",
    "        loss.backward()\n",
    "        batch_loss += loss.item()\n",
    "        \n",
    "        # Updating parameters\n",
    "        optimizer.step()\n",
    "        \n",
    "        iter += 1\n",
    "    print(\"Epoch:\", epoch+1, \" Loss:\", batch_loss/len(train_loader))\n",
    "    loss_values.append(batch_loss)\n",
    "\n",
    "print(\"training ended\")  \n",
    "plt.plot(loss_values, 'r')\n",
    "plt.show()     \n"
   ]
  },
  {
   "cell_type": "code",
   "execution_count": 12,
   "metadata": {
    "colab": {
     "base_uri": "https://localhost:8080/",
     "height": 279
    },
    "colab_type": "code",
    "id": "bY2vjF05cAu7",
    "outputId": "699a87eb-84be-416e-de73-183fe772ff9a"
   },
   "outputs": [
    {
     "data": {
      "image/png": "[encoded data removed]",
      "text/plain": [
       "<Figure size 432x288 with 1 Axes>"
      ]
     },
     "metadata": {
      "tags": []
     },
     "output_type": "display_data"
    }
   ],
   "source": [
    "#plot the learning curve\n",
    "plt.plot(range(len(loss_values)),loss_values, label='Training Loss')\n",
    "plt.xlabel('Epoch')\n",
    "plt.ylabel('Loss')\n",
    "plt.legend()\n",
    "plt.show() \n"
   ]
  },
  {
   "cell_type": "code",
   "execution_count": 15,
   "metadata": {
    "colab": {
     "base_uri": "https://localhost:8080/",
     "height": 34
    },
    "colab_type": "code",
    "id": "BJxF7fCYRIKm",
    "outputId": "ac6db98c-2576-4a84-8c1c-765df0da082a"
   },
   "outputs": [
    {
     "name": "stdout",
     "output_type": "stream",
     "text": [
      "Accuracy on total test data: 54.93000030517578%\n"
     ]
    }
   ],
   "source": [
    "# Testing the model on testset\n",
    "\n",
    "correct = 0\n",
    "total = 0\n",
    "num_updates = 0\n",
    "# Iterate through test dataset\n",
    "for images, labels in test_loader:\n",
    "    #######################\n",
    "    #  USE GPU FOR MODEL  #\n",
    "    #######################\n",
    "    images = Variable(images.view(-1, 32*32*3)).to(avDev)\n",
    "    # Forward pass only to get logits/output\n",
    "    outputs = model(images)\n",
    "                \n",
    "    # Get predictions from the maximum value\n",
    "                \n",
    "    _, predicted = torch.max(outputs.data, 1)\n",
    "    predicted1 = predicted\n",
    "    pred_list = predicted1.tolist()\n",
    "    pred_test_results.extend(pred_list)\n",
    "    \n",
    "    labels1 = labels\n",
    "    labels_list = labels1.tolist()\n",
    "    labels_test_results.extend(labels_list)\n",
    "            \n",
    "    correct += (predicted.cpu() == labels.cpu()).sum().float()\n",
    "    # Total number of labels\n",
    "    total += labels.size(0)\n",
    "                \n",
    "    #######################\n",
    "    #  USE GPU FOR MODEL  #\n",
    "    #######################\n",
    "    \n",
    "    num_updates +=1 \n",
    "\n",
    "pred_test_numpy = np.asarray(pred_test_results)\n",
    "\n",
    "labels_test_numpy = np.asarray(labels_test_results)\n",
    "accuracy = 100 * (correct / total)\n",
    "print(\"Accuracy on total test data: {}%\".format(accuracy.item()))\n",
    "             "
   ]
  },
  {
   "cell_type": "code",
   "execution_count": 16,
   "metadata": {
    "colab": {
     "base_uri": "https://localhost:8080/",
     "height": 202
    },
    "colab_type": "code",
    "id": "SpL34LP7mKOe",
    "outputId": "4b3c493c-8034-487e-d616-b3bb96139861"
   },
   "outputs": [
    {
     "name": "stdout",
     "output_type": "stream",
     "text": [
      "Confusion Matrix\n"
     ]
    },
    {
     "data": {
      "text/plain": [
       "array([[1278,  110,  150,   66,   74,   36,   38,   72,  198,  112],\n",
       "       [  48, 1330,   32,   44,   20,   20,   44,   34,  138,  356],\n",
       "       [ 144,   42,  970,  234,  306,  204,  212,  130,   56,   38],\n",
       "       [  32,   26,  116,  622,  106,  312,  136,  100,   62,   60],\n",
       "       [  46,   28,  262,  154,  954,  136,  158,  138,   40,   26],\n",
       "       [  20,   34,  154,  422,  134,  948,  104,  186,   44,   48],\n",
       "       [  42,   36,  124,  212,  162,  102, 1198,   44,    8,   30],\n",
       "       [  30,   44,  120,  134,  164,  178,   42, 1212,   24,   92],\n",
       "       [ 266,  104,   40,   44,   48,   30,   32,   14, 1354,  118],\n",
       "       [  94,  246,   32,   68,   32,   34,   36,   70,   76, 1120]])"
      ]
     },
     "execution_count": 16,
     "metadata": {
      "tags": []
     },
     "output_type": "execute_result"
    }
   ],
   "source": [
    "# Confusion Matrix\n",
    "print(\"Confusion Matrix\")\n",
    "confusion_matrix(pred_test_numpy, labels_test_numpy)"
   ]
  },
  {
   "cell_type": "code",
   "execution_count": 17,
   "metadata": {
    "colab": {
     "base_uri": "https://localhost:8080/",
     "height": 50
    },
    "colab_type": "code",
    "id": "iafq_xbyNOrS",
    "outputId": "bd01c620-7d29-4b23-fe86-ae5aea0bf5cd"
   },
   "outputs": [
    {
     "name": "stdout",
     "output_type": "stream",
     "text": [
      "Learning rate: 0.1\n",
      "Number of epochs 40\n"
     ]
    }
   ],
   "source": [
    "#Best hyperparameters\n",
    "print(\"Learning rate:\", learning_rate)\n",
    "print(\"Number of epochs\", num_epochs)"
   ]
  },
  {
   "cell_type": "code",
   "execution_count": 0,
   "metadata": {
    "colab": {},
    "colab_type": "code",
    "id": "8FK9n3U-Sb-p"
   },
   "outputs": [],
   "source": []
  }
 ],
 "metadata": {
  "accelerator": "GPU",
  "colab": {
   "collapsed_sections": [],
   "name": "CIFAR.ipynb",
   "provenance": []
  },
  "kernelspec": {
   "display_name": "Python 3",
   "language": "python",
   "name": "python3"
  },
  "language_info": {
   "codemirror_mode": {
    "name": "ipython",
    "version": 3
   },
   "file_extension": ".py",
   "mimetype": "text/x-python",
   "name": "python",
   "nbconvert_exporter": "python",
   "pygments_lexer": "ipython3",
   "version": "3.6.5"
  }
 },
 "nbformat": 4,
 "nbformat_minor": 1
}
